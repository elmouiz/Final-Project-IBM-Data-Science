{
 "cells": [
  {
   "cell_type": "markdown",
   "id": "f1b9c041",
   "metadata": {},
   "source": [
    "# Data Science Tools and Ecosystem"
   ]
  },
  {
   "cell_type": "markdown",
   "id": "121710a6",
   "metadata": {},
   "source": [
    "## In this notebook, Data Science Tools and Ecosystem are summarized."
   ]
  },
  {
   "cell_type": "markdown",
   "id": "e9b0352a",
   "metadata": {},
   "source": [
    "##### Objectives:\n",
    "The notebook covers:\n",
    "* List popular languages data scientists use.\n",
    "* Libraries Data Scientists use.\n",
    "* Data Science tools.\n",
    "* Some examples of arithmetic expressions in Python.\n"
   ]
  },
  {
   "cell_type": "markdown",
   "id": "96262e42",
   "metadata": {},
   "source": [
    "#### Some of the popular languages that Data Scientists use are:\n",
    "1. Python.\n",
    "2. R.\n",
    "3. SQL."
   ]
  },
  {
   "cell_type": "markdown",
   "id": "db69aae4",
   "metadata": {},
   "source": [
    "#### Some of the commonly used libraries used by Data Scientists include:\n",
    "1. Pandas.\n",
    "2. Matpoltlib.\n",
    "3. Scikit-learn.\n"
   ]
  },
  {
   "cell_type": "markdown",
   "id": "7f1d3a75",
   "metadata": {},
   "source": [
    "| **Data Science Tools** |\n",
    "|:----------------------:|\n",
    "| JupterLap |\n",
    "| Visual Studio code|\n",
    "| Anaconda |"
   ]
  },
  {
   "cell_type": "markdown",
   "id": "642a54f2",
   "metadata": {},
   "source": [
    "### Below are a few examples of evaluating arithmetic expressions in Python\n"
   ]
  },
  {
   "cell_type": "code",
   "execution_count": 1,
   "id": "2d656092",
   "metadata": {},
   "outputs": [
    {
     "data": {
      "text/plain": [
       "17"
      ]
     },
     "execution_count": 1,
     "metadata": {},
     "output_type": "execute_result"
    }
   ],
   "source": [
    "#This a simple arithmetic expression to mutiply then add integers\n",
    "(3*4)+5"
   ]
  },
  {
   "cell_type": "code",
   "execution_count": 3,
   "id": "4a1810d7",
   "metadata": {},
   "outputs": [
    {
     "data": {
      "text/plain": [
       "3.3333333333333335"
      ]
     },
     "execution_count": 3,
     "metadata": {},
     "output_type": "execute_result"
    }
   ],
   "source": [
    "#This will convert 200 minutes to hours by diving by 60\n",
    "200/60"
   ]
  },
  {
   "cell_type": "markdown",
   "id": "9a0e4de6",
   "metadata": {},
   "source": [
    "## Author\n",
    "Elmouiz Mutaz Gourashi"
   ]
  },
  {
   "cell_type": "code",
   "execution_count": null,
   "id": "8346580b",
   "metadata": {},
   "outputs": [],
   "source": []
  }
 ],
 "metadata": {
  "kernelspec": {
   "display_name": "Python 3 (ipykernel)",
   "language": "python",
   "name": "python3"
  },
  "language_info": {
   "codemirror_mode": {
    "name": "ipython",
    "version": 3
   },
   "file_extension": ".py",
   "mimetype": "text/x-python",
   "name": "python",
   "nbconvert_exporter": "python",
   "pygments_lexer": "ipython3",
   "version": "3.11.4"
  }
 },
 "nbformat": 4,
 "nbformat_minor": 5
}
